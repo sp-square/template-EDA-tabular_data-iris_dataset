{
 "cells": [
  {
   "cell_type": "markdown",
   "id": "5f638054",
   "metadata": {},
   "source": [
    "# Plotting for Exploratory Data Analysis (EDA)"
   ]
  },
  {
   "cell_type": "markdown",
   "id": "0c0d0ba3",
   "metadata": {},
   "source": [
    "### Basic Terminology"
   ]
  },
  {
   "cell_type": "markdown",
   "id": "8c35b186",
   "metadata": {},
   "source": [
    "- What is EDA?\n",
    "- Data-point/vector/Observation\n",
    "- Data-set\n",
    "- Feature/Variable/Input-variable/Independent-variable\n",
    "- Label/Dependent-variable/Output-variable/Class/Class-label/Response-label\n",
    "- Vector: 2-D, 3-D, 4-D, ... n-D"
   ]
  },
  {
   "cell_type": "markdown",
   "id": "10d72a46",
   "metadata": {},
   "source": [
    "Q. What is a 1-D vector?\n",
    "R. Scalar"
   ]
  },
  {
   "cell_type": "markdown",
   "id": "45c4560f",
   "metadata": {},
   "source": [
    "### Iris Flower dataset"
   ]
  },
  {
   "cell_type": "markdown",
   "id": "d1451b3d",
   "metadata": {},
   "source": [
    "Toy dataset\n",
    "[https://en.wikipedia.org/wiki/Iris_flower_data_set]\n",
    "* A simple dataset to learn the basics\n",
    "* 3 flowers of Iris species\n",
    "* 1936 by Ronald Fisher\n",
    "* Petal and Sepal: http://terpconnect.umd.edu/~petersd/666/html/iris_with_labels.jpg\n",
    "* Objective: classify a new flower as belonging to one of the 3 classes given the 4 features\n",
    "* Importance of domain knowledge\n",
    "* Why use petal and sepal dimensions as features?\n",
    "* Why do we not use 'color' as a feature?"
   ]
  },
  {
   "cell_type": "code",
   "execution_count": 1,
   "id": "8d8fff12",
   "metadata": {},
   "outputs": [],
   "source": [
    "import pandas as pd\n",
    "import seaborn as sns\n",
    "import matplotlib.pyplot as plt\n",
    "import numpy as np"
   ]
  },
  {
   "cell_type": "code",
   "execution_count": 2,
   "id": "8c43895a",
   "metadata": {},
   "outputs": [
    {
     "data": {
      "text/html": [
       "<div>\n",
       "<style scoped>\n",
       "    .dataframe tbody tr th:only-of-type {\n",
       "        vertical-align: middle;\n",
       "    }\n",
       "\n",
       "    .dataframe tbody tr th {\n",
       "        vertical-align: top;\n",
       "    }\n",
       "\n",
       "    .dataframe thead th {\n",
       "        text-align: right;\n",
       "    }\n",
       "</style>\n",
       "<table border=\"1\" class=\"dataframe\">\n",
       "  <thead>\n",
       "    <tr style=\"text-align: right;\">\n",
       "      <th></th>\n",
       "      <th>sepal_length</th>\n",
       "      <th>sepal_width</th>\n",
       "      <th>petal_length</th>\n",
       "      <th>petal_width</th>\n",
       "      <th>species</th>\n",
       "    </tr>\n",
       "  </thead>\n",
       "  <tbody>\n",
       "    <tr>\n",
       "      <th>0</th>\n",
       "      <td>5.1</td>\n",
       "      <td>3.5</td>\n",
       "      <td>1.4</td>\n",
       "      <td>0.2</td>\n",
       "      <td>setosa</td>\n",
       "    </tr>\n",
       "    <tr>\n",
       "      <th>1</th>\n",
       "      <td>4.9</td>\n",
       "      <td>3.0</td>\n",
       "      <td>1.4</td>\n",
       "      <td>0.2</td>\n",
       "      <td>setosa</td>\n",
       "    </tr>\n",
       "    <tr>\n",
       "      <th>2</th>\n",
       "      <td>4.7</td>\n",
       "      <td>3.2</td>\n",
       "      <td>1.3</td>\n",
       "      <td>0.2</td>\n",
       "      <td>setosa</td>\n",
       "    </tr>\n",
       "    <tr>\n",
       "      <th>3</th>\n",
       "      <td>4.6</td>\n",
       "      <td>3.1</td>\n",
       "      <td>1.5</td>\n",
       "      <td>0.2</td>\n",
       "      <td>setosa</td>\n",
       "    </tr>\n",
       "    <tr>\n",
       "      <th>4</th>\n",
       "      <td>5.0</td>\n",
       "      <td>3.6</td>\n",
       "      <td>1.4</td>\n",
       "      <td>0.2</td>\n",
       "      <td>setosa</td>\n",
       "    </tr>\n",
       "    <tr>\n",
       "      <th>...</th>\n",
       "      <td>...</td>\n",
       "      <td>...</td>\n",
       "      <td>...</td>\n",
       "      <td>...</td>\n",
       "      <td>...</td>\n",
       "    </tr>\n",
       "    <tr>\n",
       "      <th>145</th>\n",
       "      <td>6.7</td>\n",
       "      <td>3.0</td>\n",
       "      <td>5.2</td>\n",
       "      <td>2.3</td>\n",
       "      <td>virginica</td>\n",
       "    </tr>\n",
       "    <tr>\n",
       "      <th>146</th>\n",
       "      <td>6.3</td>\n",
       "      <td>2.5</td>\n",
       "      <td>5.0</td>\n",
       "      <td>1.9</td>\n",
       "      <td>virginica</td>\n",
       "    </tr>\n",
       "    <tr>\n",
       "      <th>147</th>\n",
       "      <td>6.5</td>\n",
       "      <td>3.0</td>\n",
       "      <td>5.2</td>\n",
       "      <td>2.0</td>\n",
       "      <td>virginica</td>\n",
       "    </tr>\n",
       "    <tr>\n",
       "      <th>148</th>\n",
       "      <td>6.2</td>\n",
       "      <td>3.4</td>\n",
       "      <td>5.4</td>\n",
       "      <td>2.3</td>\n",
       "      <td>virginica</td>\n",
       "    </tr>\n",
       "    <tr>\n",
       "      <th>149</th>\n",
       "      <td>5.9</td>\n",
       "      <td>3.0</td>\n",
       "      <td>5.1</td>\n",
       "      <td>1.8</td>\n",
       "      <td>virginica</td>\n",
       "    </tr>\n",
       "  </tbody>\n",
       "</table>\n",
       "<p>150 rows × 5 columns</p>\n",
       "</div>"
      ],
      "text/plain": [
       "     sepal_length  sepal_width  petal_length  petal_width    species\n",
       "0             5.1          3.5           1.4          0.2     setosa\n",
       "1             4.9          3.0           1.4          0.2     setosa\n",
       "2             4.7          3.2           1.3          0.2     setosa\n",
       "3             4.6          3.1           1.5          0.2     setosa\n",
       "4             5.0          3.6           1.4          0.2     setosa\n",
       "..            ...          ...           ...          ...        ...\n",
       "145           6.7          3.0           5.2          2.3  virginica\n",
       "146           6.3          2.5           5.0          1.9  virginica\n",
       "147           6.5          3.0           5.2          2.0  virginica\n",
       "148           6.2          3.4           5.4          2.3  virginica\n",
       "149           5.9          3.0           5.1          1.8  virginica\n",
       "\n",
       "[150 rows x 5 columns]"
      ]
     },
     "execution_count": 2,
     "metadata": {},
     "output_type": "execute_result"
    }
   ],
   "source": [
    "# Load iris.csv into a pandas dataFrame\n",
    "iris = pd.read_csv('iris.csv')\n",
    "iris"
   ]
  },
  {
   "cell_type": "code",
   "execution_count": 3,
   "id": "5b321fac",
   "metadata": {},
   "outputs": [
    {
     "data": {
      "text/plain": [
       "(150, 5)"
      ]
     },
     "execution_count": 3,
     "metadata": {},
     "output_type": "execute_result"
    }
   ],
   "source": [
    "# How many data points and features?\n",
    "\n",
    "iris.shape"
   ]
  },
  {
   "cell_type": "code",
   "execution_count": 4,
   "id": "141ebac5",
   "metadata": {},
   "outputs": [
    {
     "data": {
      "text/plain": [
       "Index(['sepal_length', 'sepal_width', 'petal_length', 'petal_width',\n",
       "       'species'],\n",
       "      dtype='object')"
      ]
     },
     "execution_count": 4,
     "metadata": {},
     "output_type": "execute_result"
    }
   ],
   "source": [
    "# What are the column names in our dataset?\n",
    "\n",
    "iris.columns"
   ]
  },
  {
   "cell_type": "code",
   "execution_count": 5,
   "id": "173f4431",
   "metadata": {},
   "outputs": [
    {
     "data": {
      "text/plain": [
       "setosa        50\n",
       "versicolor    50\n",
       "virginica     50\n",
       "Name: species, dtype: int64"
      ]
     },
     "execution_count": 5,
     "metadata": {},
     "output_type": "execute_result"
    }
   ],
   "source": [
    "# How many data points for each class are present?\n",
    "# (or) How many flowers for each species are present?\n",
    "\n",
    "iris['species'].value_counts()"
   ]
  },
  {
   "cell_type": "markdown",
   "id": "2c54b1cf",
   "metadata": {},
   "source": [
    "*Balanced vs imbalanced datasets*:\n",
    "Iris is a balanced dataset because the number of data points for every class is equal"
   ]
  },
  {
   "cell_type": "markdown",
   "id": "f77e916d",
   "metadata": {},
   "source": [
    "### 2-D Scatter Plot"
   ]
  },
  {
   "cell_type": "code",
   "execution_count": 6,
   "id": "1865b12f",
   "metadata": {},
   "outputs": [
    {
     "data": {
      "image/png": "[encoded data removed]",
      "text/plain": [
       "<Figure size 432x288 with 1 Axes>"
      ]
     },
     "metadata": {
      "needs_background": "light"
     },
     "output_type": "display_data"
    }
   ],
   "source": [
    "# 2-D scatter plot\n",
    "# ALWAYS understand the axes: labels and scale\n",
    "\n",
    "iris.plot(kind='scatter', x='sepal_length', y='sepal_width')\n",
    "plt.show()"
   ]
  },
  {
   "cell_type": "markdown",
   "id": "af02084b",
   "metadata": {},
   "source": [
    "It's hard to make much sense out of this plot. What is we color the points by their class-label/flower-type?"
   ]
  },
  {
   "cell_type": "code",
   "execution_count": 7,
   "id": "fb8df976",
   "metadata": {},
   "outputs": [
    {
     "data": {
      "image/png": "[encoded data removed]",
      "text/plain": [
       "<Figure size 367.125x288 with 1 Axes>"
      ]
     },
     "metadata": {},
     "output_type": "display_data"
    }
   ],
   "source": [
    "# 2-D scatter plot with color-coding for each flower type/class\n",
    "\n",
    "sns.set_style('whitegrid')\n",
    "sns.FacetGrid(iris, hue='species', height=4) \\\n",
    "   .map(plt.scatter, 'sepal_length', 'sepal_width') \\\n",
    "   .add_legend()\n",
    "plt.show()"
   ]
  },
  {
   "cell_type": "markdown",
   "id": "289be1d2",
   "metadata": {},
   "source": [
    "Observations:\n",
    "1. Using sepal_length and sepal_width features, we can distinguish Setosa flowers from others.\n",
    "2. Separating Versicolor from Virginica is much harder as they have considerable overlap"
   ]
  },
  {
   "cell_type": "markdown",
   "id": "00c5e6a7",
   "metadata": {},
   "source": [
    "Can we draw multiple 2-D scatter plots for each combination of features? How many combinations exist? 4C2 = 6"
   ]
  },
  {
   "cell_type": "markdown",
   "id": "e179b93f",
   "metadata": {},
   "source": [
    "### 3-D Scatter Plot"
   ]
  },
  {
   "cell_type": "markdown",
   "id": "32add9dc",
   "metadata": {},
   "source": [
    "https://plot.ly/pandas/3d-scatter-plots"
   ]
  }
 ],
 "metadata": {
  "kernelspec": {
   "display_name": "Python 3 (ipykernel)",
   "language": "python",
   "name": "python3"
  },
  "language_info": {
   "codemirror_mode": {
    "name": "ipython",
    "version": 3
   },
   "file_extension": ".py",
   "mimetype": "text/x-python",
   "name": "python",
   "nbconvert_exporter": "python",
   "pygments_lexer": "ipython3",
   "version": "3.8.5"
  }
 },
 "nbformat": 4,
 "nbformat_minor": 5
}
